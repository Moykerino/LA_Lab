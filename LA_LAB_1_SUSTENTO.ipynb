{
 "cells": [
  {
   "cell_type": "markdown",
   "metadata": {},
   "source": [
    "<h1>Linear Algebra (CpE210A)</h1>"
   ]
  },
  {
   "cell_type": "markdown",
   "metadata": {},
   "source": [
    "<h3>Laboratory 1: Getting Acquainted with Python</h3>"
   ]
  },
  {
   "cell_type": "markdown",
   "metadata": {},
   "source": [
    "<p>Coded and submitted by:<br>Sustento, Myke Alvin E.<br>58010</p>"
   ]
  },
  {
   "cell_type": "markdown",
   "metadata": {},
   "source": [
    "<h5>Lab Exercises: </h5>"
   ]
  },
  {
   "cell_type": "code",
   "execution_count": 20,
   "metadata": {},
   "outputs": [],
   "source": [
    "party = ['Charmander', 'Pidgey', 'Sandshrew', 'Rattata', 'Abra'] #list of pokemon in party \n",
    "levels = [15, 11, 18, 5, 14] #list of levels"
   ]
  },
  {
   "cell_type": "code",
   "execution_count": 21,
   "metadata": {},
   "outputs": [
    {
     "name": "stdout",
     "output_type": "stream",
     "text": [
      "Charmander at level 15\n",
      "Pidgey at level 11\n",
      "Sandshrew at level 18\n",
      "Rattata at level 5\n",
      "Abra at level 14\n"
     ]
    }
   ],
   "source": [
    "#zip function to combine party and levels into a list of tuples\n",
    "for pokemon,level in zip(party, levels): print(pokemon, \"at level\", level)\n",
    "#I made the code into 1 line by just putting the print besides the for loop since codes are read left to right."
   ]
  },
  {
   "cell_type": "code",
   "execution_count": 22,
   "metadata": {},
   "outputs": [],
   "source": [
    "reserves = [\n",
    "    ('Onix',10),\n",
    "    ('Slowpoke',18),\n",
    "    ('Dialga', 2),\n",
    "    ('Magikarp', 32),\n",
    "    ('Feebas', 22),\n",
    "    ('Swablu', 19),\n",
    "    ('Regigigas', 3),\n",
    "    ('Unown', 50)\n",
    "] #List of tuples of reserves"
   ]
  },
  {
   "cell_type": "code",
   "execution_count": 23,
   "metadata": {},
   "outputs": [
    {
     "name": "stdout",
     "output_type": "stream",
     "text": [
      "['Unown', 'Magikarp', 'Feebas']\n"
     ]
    }
   ],
   "source": [
    "#sort() function to sort the reserves by level in descending order                    \n",
    "#lambda function to create an anonymous function that sorts using the level  #list comprehension to remove the levels and loop with 3 elements  #print the picks\n",
    "reserves.sort(reverse=True, key=lambda level: level[1]);                     picks = [pick[0] for pick in reserves[:3]];                        print(picks)\n",
    "#I made this into a 1 line code by separating sort(), list comprehension, and print with a ; (semi-colon)"
   ]
  },
  {
   "cell_type": "code",
   "execution_count": 24,
   "metadata": {},
   "outputs": [],
   "source": [
    "# # Figure 3 Graded Cell 2 without using list comprehension\n",
    "# reserves = [\n",
    "#     ('Onix',10),\n",
    "#     ('Slowpoke',18),\n",
    "#     ('Dialga', 2),\n",
    "#     ('Magikarp', 32),\n",
    "#     ('Feebas', 22),\n",
    "#     ('Swablu', 19),\n",
    "#     ('Regigigas', 3),\n",
    "#     ('Unown', 50)\n",
    "# ] \n",
    "\n",
    "# reserves.sort(reverse=True, key=lambda level: level[1]);  \n",
    "\n",
    "# picks = []\n",
    "# for pick in reserves[:3]: \n",
    "#     picks.append(pick[0])\n",
    "# print(picks)"
   ]
  },
  {
   "cell_type": "code",
   "execution_count": 25,
   "metadata": {},
   "outputs": [],
   "source": [
    "def create_party(party,candidates):         #create_party function with party and candidates parameter\n",
    "    suggested_parties = party               #I made suggested_parties = party since I will use the items in the party list at cell 1 and \n",
    "                                             # add the reserves created in cell 2\n",
    "    suggested_parties.append(candidates[0]) #append function adds a candidate[0] in the suggested_parties list \n",
    "    print(suggested_parties)                #print function to show the suggested_parties with appended candidate[0]\n",
    "    suggested_parties.pop()                 #pop function to remove the appended candidate[0]\n",
    "    suggested_parties.append(candidates[1]) #append function adds a candidate[1] in the suggested_parties list \n",
    "    print(suggested_parties)                #print function to show the suggested_parties with appended candidate[1]\n",
    "    suggested_parties.pop()                 #pop function to remove the appended candidate[1]\n",
    "    suggested_parties.append(candidates[2]) #append function adds a candidate[2] in the suggested_parties list \n",
    "    return suggested_parties                #return function to show the suggested_parties"
   ]
  },
  {
   "cell_type": "code",
   "execution_count": 26,
   "metadata": {},
   "outputs": [
    {
     "name": "stdout",
     "output_type": "stream",
     "text": [
      "['Charmander', 'Pidgey', 'Sandshrew', 'Rattata', 'Abra', 'Unown']\n",
      "['Charmander', 'Pidgey', 'Sandshrew', 'Rattata', 'Abra', 'Magikarp']\n"
     ]
    },
    {
     "data": {
      "text/plain": [
       "['Charmander', 'Pidgey', 'Sandshrew', 'Rattata', 'Abra', 'Feebas']"
      ]
     },
     "execution_count": 26,
     "metadata": {},
     "output_type": "execute_result"
    }
   ],
   "source": [
    "create_party(party,picks)                   #calling the create_party function with party and pokemon as global variables"
   ]
  },
  {
   "cell_type": "code",
   "execution_count": null,
   "metadata": {},
   "outputs": [],
   "source": []
  },
  {
   "cell_type": "code",
   "execution_count": null,
   "metadata": {},
   "outputs": [],
   "source": []
  },
  {
   "cell_type": "code",
   "execution_count": null,
   "metadata": {},
   "outputs": [],
   "source": []
  },
  {
   "cell_type": "code",
   "execution_count": null,
   "metadata": {},
   "outputs": [],
   "source": []
  },
  {
   "cell_type": "code",
   "execution_count": null,
   "metadata": {},
   "outputs": [],
   "source": []
  }
 ],
 "metadata": {
  "kernelspec": {
   "display_name": "Python 3",
   "language": "python",
   "name": "python3"
  },
  "language_info": {
   "codemirror_mode": {
    "name": "ipython",
    "version": 3
   },
   "file_extension": ".py",
   "mimetype": "text/x-python",
   "name": "python",
   "nbconvert_exporter": "python",
   "pygments_lexer": "ipython3",
   "version": "3.8.3"
  }
 },
 "nbformat": 4,
 "nbformat_minor": 4
}
